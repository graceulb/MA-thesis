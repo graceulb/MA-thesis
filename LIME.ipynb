{
 "cells": [
  {
   "cell_type": "code",
   "execution_count": 1,
   "id": "5817dddc",
   "metadata": {},
   "outputs": [],
   "source": [
    "from sklearn.ensemble import RandomForestRegressor\n",
    "from sklearn.metrics import mean_squared_error\n",
    "from sklearn.model_selection import LeaveOneOut\n",
    "import pandas as pd\n",
    "import lime\n",
    "import lime.lime_tabular\n",
    "import numpy as np"
   ]
  },
  {
   "cell_type": "code",
   "execution_count": 2,
   "id": "8b22e6be",
   "metadata": {},
   "outputs": [],
   "source": [
    "# Load the dataset\n",
    "data = pd.read_csv('/Users/grace/Desktop/Courses/Master_thesis/dataset1.csv')"
   ]
  },
  {
   "cell_type": "code",
   "execution_count": 3,
   "id": "76def4e6",
   "metadata": {},
   "outputs": [],
   "source": [
    "# Separate the target variable\n",
    "target_variable = 'time_on_site [Minutes]'\n",
    "X = data.drop(target_variable, axis=1)\n",
    "y = data[target_variable]"
   ]
  },
  {
   "cell_type": "code",
   "execution_count": 4,
   "id": "d0c838b7",
   "metadata": {},
   "outputs": [],
   "source": [
    "# Initialize the Random Forest regressor\n",
    "rf = RandomForestRegressor(n_estimators=100, max_depth=5, random_state=42)\n",
    "\n",
    "# Initialize the LOOCV iterator\n",
    "loo = LeaveOneOut()\n",
    "\n",
    "# Initialize a list to store the mean squared error scores\n",
    "mse_scores = []\n",
    "\n",
    "# Loop through each training/testing split\n",
    "for train_index, test_index in loo.split(X):\n",
    "    # Split the data into training and testing sets for this iteration\n",
    "    X_train, X_test = X.iloc[train_index], X.iloc[test_index]\n",
    "    y_train, y_test = y.iloc[train_index], y.iloc[test_index]\n",
    "    # Fit the regressor on the training data\n",
    "    rf.fit(X_train, y_train)\n",
    "    # Make predictions on the test data\n",
    "    y_pred = rf.predict(X_test)\n",
    "    \n",
    "    # Calculate the mean squared error score for this iteration\n",
    "    mse = mean_squared_error(y_test, y_pred)\n",
    "    \n",
    "    # Add the mean squared error score to the list\n",
    "    mse_scores.append(mse)"
   ]
  },
  {
   "cell_type": "code",
   "execution_count": 5,
   "id": "5b889234",
   "metadata": {},
   "outputs": [
    {
     "name": "stdout",
     "output_type": "stream",
     "text": [
      "Mean mean squared error score: 509.71\n"
     ]
    }
   ],
   "source": [
    "# Calculate the mean mean squared error score across all iterations\n",
    "mean_mse = sum(mse_scores) / len(mse_scores)\n",
    "print(\"Mean mean squared error score: {:.2f}\".format(mean_mse))"
   ]
  },
  {
   "cell_type": "code",
   "execution_count": 6,
   "id": "7300e468",
   "metadata": {},
   "outputs": [
    {
     "name": "stdout",
     "output_type": "stream",
     "text": [
      "            feature  importance\n",
      "2       value [USD]    0.487990\n",
      "0       customer_id    0.277989\n",
      "3    clicks_in_site    0.137192\n",
      "1  product_category    0.096829\n"
     ]
    }
   ],
   "source": [
    "# Get the feature importances\n",
    "importances = rf.feature_importances_\n",
    "\n",
    "# Create a DataFrame of feature importances sorted from highest to lowest\n",
    "feature_importances = pd.DataFrame({'feature': X.columns, 'importance': importances}).sort_values('importance', ascending=False)\n",
    "\n",
    "# Print the top 10 features with their importances\n",
    "print(feature_importances.head(10))"
   ]
  },
  {
   "cell_type": "code",
   "execution_count": 7,
   "id": "2656f58e",
   "metadata": {},
   "outputs": [],
   "source": [
    "# Select the top k features\n",
    "k = 10\n",
    "top_k_features = feature_importances['feature'][:k].tolist()\n",
    "\n",
    "# Select the features from the dataset\n",
    "X_train_selected = X_train[top_k_features]\n",
    "X_test_selected = X_test[top_k_features]"
   ]
  },
  {
   "cell_type": "code",
   "execution_count": 8,
   "id": "c2031bdb",
   "metadata": {},
   "outputs": [
    {
     "data": {
      "text/html": [
       "<style>#sk-container-id-1 {color: black;background-color: white;}#sk-container-id-1 pre{padding: 0;}#sk-container-id-1 div.sk-toggleable {background-color: white;}#sk-container-id-1 label.sk-toggleable__label {cursor: pointer;display: block;width: 100%;margin-bottom: 0;padding: 0.3em;box-sizing: border-box;text-align: center;}#sk-container-id-1 label.sk-toggleable__label-arrow:before {content: \"▸\";float: left;margin-right: 0.25em;color: #696969;}#sk-container-id-1 label.sk-toggleable__label-arrow:hover:before {color: black;}#sk-container-id-1 div.sk-estimator:hover label.sk-toggleable__label-arrow:before {color: black;}#sk-container-id-1 div.sk-toggleable__content {max-height: 0;max-width: 0;overflow: hidden;text-align: left;background-color: #f0f8ff;}#sk-container-id-1 div.sk-toggleable__content pre {margin: 0.2em;color: black;border-radius: 0.25em;background-color: #f0f8ff;}#sk-container-id-1 input.sk-toggleable__control:checked~div.sk-toggleable__content {max-height: 200px;max-width: 100%;overflow: auto;}#sk-container-id-1 input.sk-toggleable__control:checked~label.sk-toggleable__label-arrow:before {content: \"▾\";}#sk-container-id-1 div.sk-estimator input.sk-toggleable__control:checked~label.sk-toggleable__label {background-color: #d4ebff;}#sk-container-id-1 div.sk-label input.sk-toggleable__control:checked~label.sk-toggleable__label {background-color: #d4ebff;}#sk-container-id-1 input.sk-hidden--visually {border: 0;clip: rect(1px 1px 1px 1px);clip: rect(1px, 1px, 1px, 1px);height: 1px;margin: -1px;overflow: hidden;padding: 0;position: absolute;width: 1px;}#sk-container-id-1 div.sk-estimator {font-family: monospace;background-color: #f0f8ff;border: 1px dotted black;border-radius: 0.25em;box-sizing: border-box;margin-bottom: 0.5em;}#sk-container-id-1 div.sk-estimator:hover {background-color: #d4ebff;}#sk-container-id-1 div.sk-parallel-item::after {content: \"\";width: 100%;border-bottom: 1px solid gray;flex-grow: 1;}#sk-container-id-1 div.sk-label:hover label.sk-toggleable__label {background-color: #d4ebff;}#sk-container-id-1 div.sk-serial::before {content: \"\";position: absolute;border-left: 1px solid gray;box-sizing: border-box;top: 0;bottom: 0;left: 50%;z-index: 0;}#sk-container-id-1 div.sk-serial {display: flex;flex-direction: column;align-items: center;background-color: white;padding-right: 0.2em;padding-left: 0.2em;position: relative;}#sk-container-id-1 div.sk-item {position: relative;z-index: 1;}#sk-container-id-1 div.sk-parallel {display: flex;align-items: stretch;justify-content: center;background-color: white;position: relative;}#sk-container-id-1 div.sk-item::before, #sk-container-id-1 div.sk-parallel-item::before {content: \"\";position: absolute;border-left: 1px solid gray;box-sizing: border-box;top: 0;bottom: 0;left: 50%;z-index: -1;}#sk-container-id-1 div.sk-parallel-item {display: flex;flex-direction: column;z-index: 1;position: relative;background-color: white;}#sk-container-id-1 div.sk-parallel-item:first-child::after {align-self: flex-end;width: 50%;}#sk-container-id-1 div.sk-parallel-item:last-child::after {align-self: flex-start;width: 50%;}#sk-container-id-1 div.sk-parallel-item:only-child::after {width: 0;}#sk-container-id-1 div.sk-dashed-wrapped {border: 1px dashed gray;margin: 0 0.4em 0.5em 0.4em;box-sizing: border-box;padding-bottom: 0.4em;background-color: white;}#sk-container-id-1 div.sk-label label {font-family: monospace;font-weight: bold;display: inline-block;line-height: 1.2em;}#sk-container-id-1 div.sk-label-container {text-align: center;}#sk-container-id-1 div.sk-container {/* jupyter's `normalize.less` sets `[hidden] { display: none; }` but bootstrap.min.css set `[hidden] { display: none !important; }` so we also need the `!important` here to be able to override the default hidden behavior on the sphinx rendered scikit-learn.org. See: https://github.com/scikit-learn/scikit-learn/issues/21755 */display: inline-block !important;position: relative;}#sk-container-id-1 div.sk-text-repr-fallback {display: none;}</style><div id=\"sk-container-id-1\" class=\"sk-top-container\"><div class=\"sk-text-repr-fallback\"><pre>RandomForestRegressor(max_depth=5, random_state=42)</pre><b>In a Jupyter environment, please rerun this cell to show the HTML representation or trust the notebook. <br />On GitHub, the HTML representation is unable to render, please try loading this page with nbviewer.org.</b></div><div class=\"sk-container\" hidden><div class=\"sk-item\"><div class=\"sk-estimator sk-toggleable\"><input class=\"sk-toggleable__control sk-hidden--visually\" id=\"sk-estimator-id-1\" type=\"checkbox\" checked><label for=\"sk-estimator-id-1\" class=\"sk-toggleable__label sk-toggleable__label-arrow\">RandomForestRegressor</label><div class=\"sk-toggleable__content\"><pre>RandomForestRegressor(max_depth=5, random_state=42)</pre></div></div></div></div></div>"
      ],
      "text/plain": [
       "RandomForestRegressor(max_depth=5, random_state=42)"
      ]
     },
     "execution_count": 8,
     "metadata": {},
     "output_type": "execute_result"
    }
   ],
   "source": [
    "# Train the Random Forest regressor on the selected features\n",
    "rf = RandomForestRegressor(n_estimators=100, max_depth=5, random_state=42)\n",
    "rf.fit(X_train_selected, y_train)"
   ]
  },
  {
   "cell_type": "code",
   "execution_count": 9,
   "id": "82fae0fc",
   "metadata": {},
   "outputs": [],
   "source": [
    "# Define a function to generate explanations using LIME\n",
    "def explain_instance(x, model):\n",
    "    explainer = lime.lime_tabular.LimeTabularExplainer(training_data=np.array(X_train_selected),\n",
    "                                                       feature_names=top_k_features, \n",
    "                                                       class_names=[target_variable], \n",
    "                                                       verbose=True, mode='regression')\n",
    "    exp = explainer.explain_instance(x, model.predict, num_features=k)\n",
    "    return exp.as_list()"
   ]
  },
  {
   "cell_type": "code",
   "execution_count": 10,
   "id": "93df4eef",
   "metadata": {},
   "outputs": [],
   "source": [
    "# Define the hyperparameter grid to search\n",
    "n_estimators = [int(x) for x in np.linspace(start = 100, stop = 1000, num = 10)]\n",
    "max_features = ['auto', 'sqrt']\n",
    "max_depth = [int(x) for x in np.linspace(10, 110, num = 11)]\n",
    "max_depth.append(None)\n",
    "min_samples_split = [2, 5, 10]\n",
    "min_samples_leaf = [1, 2, 4]\n",
    "bootstrap = [True, False]\n",
    "\n",
    "random_grid = {\n",
    "    'n_estimators': n_estimators,\n",
    "    'max_features': max_features,\n",
    "    'max_depth': max_depth,\n",
    "    'min_samples_split': min_samples_split,\n",
    "    'min_samples_leaf': min_samples_leaf,\n",
    "    'bootstrap': bootstrap\n",
    "}"
   ]
  },
  {
   "cell_type": "code",
   "execution_count": 11,
   "id": "b3db1e65",
   "metadata": {},
   "outputs": [
    {
     "name": "stdout",
     "output_type": "stream",
     "text": [
      "Selected test instance: \n",
      "customer_id         25626.00\n",
      "product_category      513.00\n",
      "value [USD]           248.72\n",
      "clicks_in_site         17.00\n",
      "Name: 198, dtype: float64\n",
      "True target value:  11.3\n"
     ]
    }
   ],
   "source": [
    "# Pick a random test instance to generate an explanation for\n",
    "test_instance = X_test.iloc[0]\n",
    "print(\"Selected test instance: \")\n",
    "print(test_instance)\n",
    "print(\"True target value: \", y_test.iloc[0])"
   ]
  },
  {
   "cell_type": "code",
   "execution_count": 12,
   "id": "2001a47d",
   "metadata": {},
   "outputs": [
    {
     "name": "stdout",
     "output_type": "stream",
     "text": [
      "Intercept 24.025358815129042\n",
      "Prediction_local [48.82518708]\n",
      "Right: 56.81112777777775\n",
      "LIME explanation for the selected instance: \n",
      "[('clicks_in_site > 16.00', 13.469301933481619), ('value [USD] > 234.28', 12.030888611024128), ('product_category <= 504.00', -2.511781911155953), ('customer_id <= 26075.25', 1.8114196361659831)]\n"
     ]
    },
    {
     "name": "stderr",
     "output_type": "stream",
     "text": [
      "C:\\Users\\grace\\anaconda3\\envs\\XAI\\lib\\site-packages\\sklearn\\base.py:409: UserWarning: X does not have valid feature names, but RandomForestRegressor was fitted with feature names\n",
      "  warnings.warn(\n"
     ]
    }
   ],
   "source": [
    "# Generate an explanation for the test instance using LIME\n",
    "exp = explain_instance(test_instance, rf)\n",
    "print(\"LIME explanation for the selected instance: \")\n",
    "print(exp)"
   ]
  },
  {
   "cell_type": "code",
   "execution_count": 14,
   "id": "0bdce769",
   "metadata": {},
   "outputs": [
    {
     "ename": "ValueError",
     "evalue": "Axis limits cannot be NaN or Inf",
     "output_type": "error",
     "traceback": [
      "\u001b[1;31m---------------------------------------------------------------------------\u001b[0m",
      "\u001b[1;31mValueError\u001b[0m                                Traceback (most recent call last)",
      "Cell \u001b[1;32mIn[14], line 11\u001b[0m\n\u001b[0;32m      8\u001b[0m pdp_data \u001b[38;5;241m=\u001b[39m pdp\u001b[38;5;241m.\u001b[39mpdp_isolate(model\u001b[38;5;241m=\u001b[39mrf, dataset\u001b[38;5;241m=\u001b[39mX_test_selected, model_features\u001b[38;5;241m=\u001b[39mtop_k_features, feature\u001b[38;5;241m=\u001b[39mfeature_name)\n\u001b[0;32m     10\u001b[0m \u001b[38;5;66;03m# Plot the PDP\u001b[39;00m\n\u001b[1;32m---> 11\u001b[0m fig, axes \u001b[38;5;241m=\u001b[39m \u001b[43mpdp\u001b[49m\u001b[38;5;241;43m.\u001b[39;49m\u001b[43mpdp_plot\u001b[49m\u001b[43m(\u001b[49m\u001b[43mpdp_data\u001b[49m\u001b[43m,\u001b[49m\u001b[43m \u001b[49m\u001b[43mfeature_name\u001b[49m\u001b[43m,\u001b[49m\u001b[43m \u001b[49m\u001b[43mplot_lines\u001b[49m\u001b[38;5;241;43m=\u001b[39;49m\u001b[38;5;28;43;01mTrue\u001b[39;49;00m\u001b[43m,\u001b[49m\u001b[43m \u001b[49m\u001b[43mfrac_to_plot\u001b[49m\u001b[38;5;241;43m=\u001b[39;49m\u001b[38;5;241;43m0.5\u001b[39;49m\u001b[43m,\u001b[49m\u001b[43m \u001b[49m\u001b[43mplot_pts_dist\u001b[49m\u001b[38;5;241;43m=\u001b[39;49m\u001b[38;5;28;43;01mTrue\u001b[39;49;00m\u001b[43m)\u001b[49m\n\u001b[0;32m     13\u001b[0m \u001b[38;5;66;03m# Add a title to the plot\u001b[39;00m\n\u001b[0;32m     14\u001b[0m axes[\u001b[38;5;124m'\u001b[39m\u001b[38;5;124mpdp_ax\u001b[39m\u001b[38;5;124m'\u001b[39m]\u001b[38;5;241m.\u001b[39mset_title(\u001b[38;5;124mf\u001b[39m\u001b[38;5;124m\"\u001b[39m\u001b[38;5;124mPDP for \u001b[39m\u001b[38;5;132;01m{\u001b[39;00mfeature_name\u001b[38;5;132;01m}\u001b[39;00m\u001b[38;5;124m\"\u001b[39m)\n",
      "File \u001b[1;32m~\\anaconda3\\envs\\XAI\\lib\\site-packages\\pdpbox\\pdp.py:412\u001b[0m, in \u001b[0;36mpdp_plot\u001b[1;34m(pdp_isolate_out, feature_name, center, plot_pts_dist, plot_lines, frac_to_plot, cluster, n_cluster_centers, cluster_method, x_quantile, show_percentile, figsize, ncols, plot_params, which_classes)\u001b[0m\n\u001b[0;32m    409\u001b[0m     fig\u001b[38;5;241m.\u001b[39madd_subplot(_count_ax, sharex\u001b[38;5;241m=\u001b[39m_pdp_ax)\n\u001b[0;32m    410\u001b[0m     pdp_ax \u001b[38;5;241m=\u001b[39m {\u001b[38;5;124m'\u001b[39m\u001b[38;5;124m_pdp_ax\u001b[39m\u001b[38;5;124m'\u001b[39m: _pdp_ax, \u001b[38;5;124m'\u001b[39m\u001b[38;5;124m_count_ax\u001b[39m\u001b[38;5;124m'\u001b[39m: _count_ax}\n\u001b[1;32m--> 412\u001b[0m     _pdp_plot(pdp_isolate_out\u001b[38;5;241m=\u001b[39mpdp_plot_data[\u001b[38;5;241m0\u001b[39m], feature_name\u001b[38;5;241m=\u001b[39mfeature_name_adj, pdp_ax\u001b[38;5;241m=\u001b[39m_pdp_ax,\n\u001b[0;32m    413\u001b[0m               count_ax\u001b[38;5;241m=\u001b[39m_count_ax, \u001b[38;5;241m*\u001b[39m\u001b[38;5;241m*\u001b[39mpdp_plot_params)\n\u001b[0;32m    414\u001b[0m \u001b[38;5;28;01melse\u001b[39;00m:\n\u001b[0;32m    415\u001b[0m     pdp_ax \u001b[38;5;241m=\u001b[39m plt\u001b[38;5;241m.\u001b[39msubplot(outer_grid[\u001b[38;5;241m1\u001b[39m])\n",
      "File \u001b[1;32m~\\anaconda3\\envs\\XAI\\lib\\site-packages\\pdpbox\\pdp_plot_utils.py:154\u001b[0m, in \u001b[0;36m_pdp_plot\u001b[1;34m(pdp_isolate_out, feature_name, center, plot_lines, frac_to_plot, cluster, n_cluster_centers, cluster_method, x_quantile, show_percentile, pdp_ax, count_data, count_ax, plot_params)\u001b[0m\n\u001b[0;32m    152\u001b[0m \u001b[38;5;66;03m# pdp\u001b[39;00m\n\u001b[0;32m    153\u001b[0m std \u001b[38;5;241m=\u001b[39m ice_lines[feature_grids]\u001b[38;5;241m.\u001b[39mstd()\u001b[38;5;241m.\u001b[39mvalues\n\u001b[1;32m--> 154\u001b[0m \u001b[43m_pdp_std_plot\u001b[49m\u001b[43m(\u001b[49m\u001b[43mx\u001b[49m\u001b[38;5;241;43m=\u001b[39;49m\u001b[43mx\u001b[49m\u001b[43m,\u001b[49m\u001b[43m \u001b[49m\u001b[43my\u001b[49m\u001b[38;5;241;43m=\u001b[39;49m\u001b[43mpdp_y\u001b[49m\u001b[43m,\u001b[49m\u001b[43m \u001b[49m\u001b[43mstd\u001b[49m\u001b[38;5;241;43m=\u001b[39;49m\u001b[43mstd\u001b[49m\u001b[43m,\u001b[49m\u001b[43m \u001b[49m\u001b[43mstd_fill\u001b[49m\u001b[38;5;241;43m=\u001b[39;49m\u001b[43mstd_fill\u001b[49m\u001b[43m,\u001b[49m\u001b[43m \u001b[49m\u001b[43mpdp_hl\u001b[49m\u001b[38;5;241;43m=\u001b[39;49m\u001b[43mpdp_hl\u001b[49m\u001b[43m,\u001b[49m\u001b[43m \u001b[49m\u001b[43max\u001b[49m\u001b[38;5;241;43m=\u001b[39;49m\u001b[43mpdp_ax\u001b[49m\u001b[43m,\u001b[49m\u001b[43m \u001b[49m\u001b[43mplot_params\u001b[49m\u001b[38;5;241;43m=\u001b[39;49m\u001b[43mplot_params\u001b[49m\u001b[43m)\u001b[49m\n\u001b[0;32m    155\u001b[0m _axes_modify(font_family, pdp_ax)\n\u001b[0;32m    157\u001b[0m \u001b[38;5;66;03m# add data distribution plot\u001b[39;00m\n",
      "File \u001b[1;32m~\\anaconda3\\envs\\XAI\\lib\\site-packages\\pdpbox\\pdp_plot_utils.py:205\u001b[0m, in \u001b[0;36m_pdp_std_plot\u001b[1;34m(x, y, std, std_fill, pdp_hl, ax, plot_params)\u001b[0m\n\u001b[0;32m    203\u001b[0m ymin, ymax \u001b[38;5;241m=\u001b[39m np\u001b[38;5;241m.\u001b[39mmin([np\u001b[38;5;241m.\u001b[39mmin(lower) \u001b[38;5;241m*\u001b[39m \u001b[38;5;241m2\u001b[39m, \u001b[38;5;241m0\u001b[39m]), np\u001b[38;5;241m.\u001b[39mmax([np\u001b[38;5;241m.\u001b[39mmax(upper) \u001b[38;5;241m*\u001b[39m \u001b[38;5;241m2\u001b[39m, \u001b[38;5;241m0\u001b[39m])\n\u001b[0;32m    204\u001b[0m \u001b[38;5;66;03m# set ylim\u001b[39;00m\n\u001b[1;32m--> 205\u001b[0m \u001b[43max\u001b[49m\u001b[38;5;241;43m.\u001b[39;49m\u001b[43mset_ylim\u001b[49m\u001b[43m(\u001b[49m\u001b[43mymin\u001b[49m\u001b[43m,\u001b[49m\u001b[43m \u001b[49m\u001b[43mymax\u001b[49m\u001b[43m)\u001b[49m\n",
      "File \u001b[1;32m~\\anaconda3\\envs\\XAI\\lib\\site-packages\\matplotlib\\axes\\_base.py:3848\u001b[0m, in \u001b[0;36m_AxesBase.set_ylim\u001b[1;34m(self, bottom, top, emit, auto, ymin, ymax)\u001b[0m\n\u001b[0;32m   3845\u001b[0m     top \u001b[38;5;241m=\u001b[39m ymax\n\u001b[0;32m   3847\u001b[0m \u001b[38;5;28mself\u001b[39m\u001b[38;5;241m.\u001b[39m_process_unit_info([(\u001b[38;5;124m\"\u001b[39m\u001b[38;5;124my\u001b[39m\u001b[38;5;124m\"\u001b[39m, (bottom, top))], convert\u001b[38;5;241m=\u001b[39m\u001b[38;5;28;01mFalse\u001b[39;00m)\n\u001b[1;32m-> 3848\u001b[0m bottom \u001b[38;5;241m=\u001b[39m \u001b[38;5;28;43mself\u001b[39;49m\u001b[38;5;241;43m.\u001b[39;49m\u001b[43m_validate_converted_limits\u001b[49m\u001b[43m(\u001b[49m\u001b[43mbottom\u001b[49m\u001b[43m,\u001b[49m\u001b[43m \u001b[49m\u001b[38;5;28;43mself\u001b[39;49m\u001b[38;5;241;43m.\u001b[39;49m\u001b[43mconvert_yunits\u001b[49m\u001b[43m)\u001b[49m\n\u001b[0;32m   3849\u001b[0m top \u001b[38;5;241m=\u001b[39m \u001b[38;5;28mself\u001b[39m\u001b[38;5;241m.\u001b[39m_validate_converted_limits(top, \u001b[38;5;28mself\u001b[39m\u001b[38;5;241m.\u001b[39mconvert_yunits)\n\u001b[0;32m   3851\u001b[0m \u001b[38;5;28;01mif\u001b[39;00m bottom \u001b[38;5;129;01mis\u001b[39;00m \u001b[38;5;28;01mNone\u001b[39;00m \u001b[38;5;129;01mor\u001b[39;00m top \u001b[38;5;129;01mis\u001b[39;00m \u001b[38;5;28;01mNone\u001b[39;00m:\n\u001b[0;32m   3852\u001b[0m     \u001b[38;5;66;03m# Axes init calls set_ylim(0, 1) before get_ylim() can be called,\u001b[39;00m\n\u001b[0;32m   3853\u001b[0m     \u001b[38;5;66;03m# so only grab the limits if we really need them.\u001b[39;00m\n",
      "File \u001b[1;32m~\\anaconda3\\envs\\XAI\\lib\\site-packages\\matplotlib\\axes\\_base.py:3439\u001b[0m, in \u001b[0;36m_AxesBase._validate_converted_limits\u001b[1;34m(self, limit, convert)\u001b[0m\n\u001b[0;32m   3436\u001b[0m converted_limit \u001b[38;5;241m=\u001b[39m convert(limit)\n\u001b[0;32m   3437\u001b[0m \u001b[38;5;28;01mif\u001b[39;00m (\u001b[38;5;28misinstance\u001b[39m(converted_limit, Real)\n\u001b[0;32m   3438\u001b[0m         \u001b[38;5;129;01mand\u001b[39;00m \u001b[38;5;129;01mnot\u001b[39;00m np\u001b[38;5;241m.\u001b[39misfinite(converted_limit)):\n\u001b[1;32m-> 3439\u001b[0m     \u001b[38;5;28;01mraise\u001b[39;00m \u001b[38;5;167;01mValueError\u001b[39;00m(\u001b[38;5;124m\"\u001b[39m\u001b[38;5;124mAxis limits cannot be NaN or Inf\u001b[39m\u001b[38;5;124m\"\u001b[39m)\n\u001b[0;32m   3440\u001b[0m \u001b[38;5;28;01mreturn\u001b[39;00m converted_limit\n",
      "\u001b[1;31mValueError\u001b[0m: Axis limits cannot be NaN or Inf"
     ]
    },
    {
     "data": {
      "image/png": "[encoded data removed]",
      "text/plain": [
       "<Figure size 1500x950 with 3 Axes>"
      ]
     },
     "metadata": {},
     "output_type": "display_data"
    }
   ],
   "source": [
    "from pdpbox import pdp, get_dataset, info_plots\n",
    "import matplotlib.pyplot as plt\n",
    "\n",
    "# Define the feature to plot\n",
    "feature_name = top_k_features[0]\n",
    "\n",
    "# Create the data for the PDP plot\n",
    "pdp_data = pdp.pdp_isolate(model=rf, dataset=X_test_selected, model_features=top_k_features, feature=feature_name)\n",
    "\n",
    "# Plot the PDP\n",
    "fig, axes = pdp.pdp_plot(pdp_data, feature_name, plot_lines=True, frac_to_plot=0.5, plot_pts_dist=True)\n",
    "\n",
    "# Add a title to the plot\n",
    "axes['pdp_ax'].set_title(f\"PDP for {feature_name}\")\n",
    "\n",
    "plt.show()\n"
   ]
  },
  {
   "cell_type": "code",
   "execution_count": null,
   "id": "272cd6c5",
   "metadata": {},
   "outputs": [],
   "source": []
  }
 ],
 "metadata": {
  "kernelspec": {
   "display_name": "Python 3 (ipykernel)",
   "language": "python",
   "name": "python3"
  },
  "language_info": {
   "codemirror_mode": {
    "name": "ipython",
    "version": 3
   },
   "file_extension": ".py",
   "mimetype": "text/x-python",
   "name": "python",
   "nbconvert_exporter": "python",
   "pygments_lexer": "ipython3",
   "version": "3.9.16"
  }
 },
 "nbformat": 4,
 "nbformat_minor": 5
}
